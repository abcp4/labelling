{
 "cells": [
  {
   "cell_type": "code",
   "execution_count": 4,
   "metadata": {},
   "outputs": [
    {
     "name": "stdout",
     "output_type": "stream",
     "text": [
      "Submitting input:     : 100%|\u001b[38;2;15;98;254m██████████████████████████████\u001b[0m| 1/1 [00:02<00:00,  \u001b[0m\n",
      "Converting input:     : 100%|\u001b[38;2;15;98;254m██████████████████████████████\u001b[0m| 1/1 [00:27<00:00, 2\u001b[0m\n",
      "Downloading result:   : 100%|\u001b[38;2;15;98;254m██████████████████████████████\u001b[0m| 1/1 [00:01<00:00,  \u001b[0m\n",
      "\n",
      "        Converted documents and additional metadata are saved here:\n",
      "        /mnt/e026e6cb-2abe-4ed4-bf51-0381c5a02c4b/Servidor/Teses/results_2023-07-31_15h49m20s\n",
      "        \n",
      "\n",
      "        Reports can be generated after document conversion:\n",
      "        deepsearch documents get-report -p 1234567890abcdefghijklmnopqrstvwyz123456 -t /mnt/e026e6cb-2abe-4ed4-bf51-0381c5a02c4b/Servidor/Teses/results_2023-07-31_15h49m20s/task_ids.txt\n",
      "\n",
      "        To automatically generate report after document conversion use the \"--report\" flag:\n",
      "        deepsearch documents convert -p PROJ_KEY -i INPUT_FILES --report\n",
      "        \n"
     ]
    }
   ],
   "source": [
    "!deepsearch documents convert -p 1234567890abcdefghijklmnopqrstvwyz123456 -u https://arxiv.org/pdf/2206.00785.pdf"
   ]
  },
  {
   "cell_type": "code",
   "execution_count": 6,
   "metadata": {},
   "outputs": [
    {
     "name": "stdout",
     "output_type": "stream",
     "text": [
      "Processing input:     : 100%|\u001b[38;2;15;98;254m██████████████████████████████\u001b[0m| 1/1 [00:00<00:00, 1\u001b[0m\n",
      "Submitting input:     : 100%|\u001b[38;2;15;98;254m██████████████████████████████\u001b[0m| 1/1 [00:05<00:00,  \u001b[0m\n",
      "Converting input:     : 100%|\u001b[38;2;15;98;254m██████████████████████████████\u001b[0m| 1/1 [04:15<00:00, 2\u001b[0m\n",
      "Downloading result:   : 100%|\u001b[38;2;15;98;254m██████████████████████████████\u001b[0m| 1/1 [00:01<00:00,  \u001b[0m\n",
      "\n",
      "        Converted documents and additional metadata are saved here:\n",
      "        /mnt/e026e6cb-2abe-4ed4-bf51-0381c5a02c4b/Servidor/Teses/results_2023-08-15_22h30m16s\n",
      "        \n",
      "\n",
      "        Reports can be generated after document conversion:\n",
      "        deepsearch documents get-report -p 1234567890abcdefghijklmnopqrstvwyz123456 -t /mnt/e026e6cb-2abe-4ed4-bf51-0381c5a02c4b/Servidor/Teses/results_2023-08-15_22h30m16s/task_ids.txt\n",
      "\n",
      "        To automatically generate report after document conversion use the \"--report\" flag:\n",
      "        deepsearch documents convert -p PROJ_KEY -i INPUT_FILES --report\n",
      "        \n"
     ]
    }
   ],
   "source": [
    "!deepsearch documents convert -p 1234567890abcdefghijklmnopqrstvwyz123456 -i test.pdf"
   ]
  },
  {
   "cell_type": "code",
   "execution_count": 1,
   "metadata": {},
   "outputs": [],
   "source": [
    "import deepsearch as ds     \n",
    "import os \n",
    "import glob             \n",
    "PROJ_KEY = '1234567890abcdefghijklmnopqrstvwyz123456'             # Your project key\n",
    "RESULT_DIR='/home/kiki/dados_servidor/Servidor/Teses/'   \n",
    "\n",
    "from deepsearch.cps.client.api import CpsApi\n",
    "api = CpsApi.from_env()                    \n",
    "# documents = ds.convert_documents(api=api,proj_key=PROJ_KEY, source_path='test.pdf')\n",
    "\n",
    "# # Let's download all the converted documents locally in RESULT_DIR\n",
    "# documents.download_all(result_dir = RESULT_DIR)"
   ]
  },
  {
   "cell_type": "code",
   "execution_count": 1,
   "metadata": {},
   "outputs": [
    {
     "name": "stdout",
     "output_type": "stream",
     "text": [
      "Count:  2744\n",
      "Count:  2745\n",
      "Count:  2746\n",
      "Count:  2747\n",
      "Count:  2748\n",
      "Count:  2749\n",
      "Count:  2750\n",
      "Count:  2751\n",
      "Count:  2752\n",
      "Count:  2753\n",
      "Count:  2754\n",
      "Count:  2755\n",
      "Count:  2756\n",
      "Count:  2757\n",
      "Count:  2758\n",
      "Count:  2759\n",
      "Count:  2760\n",
      "Count:  2761\n",
      "Count:  2762\n",
      "Count:  2763\n",
      "Count:  2764\n",
      "Count:  2765\n",
      "Count:  2766\n",
      "Count:  2767\n",
      "Count:  2768\n",
      "Count:  2769\n",
      "Count:  2770\n",
      "Count:  2771\n",
      "Count:  2772\n",
      "Count:  2773\n",
      "Count:  2774\n",
      "Count:  2775\n",
      "Count:  2776\n",
      "Count:  2777\n",
      "Count:  2778\n",
      "Count:  2779\n",
      "Count:  2780\n",
      "Count:  2781\n",
      "Count:  2782\n",
      "Count:  2783\n",
      "Count:  2784\n",
      "Count:  2785\n",
      "Count:  2786\n",
      "Count:  2787\n",
      "Count:  2788\n",
      "Count:  2789\n",
      "Count:  2790\n",
      "Count:  2791\n",
      "Count:  2792\n",
      "Count:  2793\n",
      "Count:  2794\n",
      "Count:  2795\n",
      "Count:  2796\n",
      "Count:  2797\n",
      "Count:  2798\n",
      "Count:  2799\n",
      "Count:  2800\n",
      "Count:  2801\n",
      "Count:  2802\n",
      "Count:  2803\n",
      "Count:  2804\n",
      "Count:  2805\n",
      "Count:  2806\n",
      "Count:  2807\n",
      "Count:  2808\n",
      "Count:  2809\n",
      "Count:  2810\n",
      "Count:  2811\n",
      "Count:  2812\n",
      "Count:  2813\n",
      "Count:  2814\n",
      "Count:  2815\n",
      "Count:  2816\n",
      "Count:  2817\n",
      "Count:  2818\n",
      "Count:  2819\n",
      "Count:  2820\n",
      "Count:  2821\n",
      "Count:  2822\n",
      "Count:  2823\n",
      "Count:  2824\n",
      "Count:  2825\n",
      "Count:  2826\n",
      "Count:  2827\n",
      "Count:  2828\n",
      "Count:  2829\n",
      "Count:  2830\n",
      "Count:  2831\n",
      "Count:  2832\n",
      "Count:  2833\n",
      "Count:  2834\n",
      "Count:  2835\n"
     ]
    }
   ],
   "source": [
    "import deepsearch as ds     \n",
    "import os \n",
    "import glob   \n",
    "import time   \n",
    "PROJ_KEY = '1234567890abcdefghijklmnopqrstvwyz123456'             # Your project key\n",
    "RESULT_DIR='/home/kiki/dados_servidor/Servidor/Teses/samples_deepsearch'   \n",
    "\n",
    "from deepsearch.cps.client.api import CpsApi\n",
    "api = CpsApi.from_env()                    \n",
    "\n",
    "#now define a function to create a folder and save the converted documents\n",
    "def convert_and_save(api,pdfs):\n",
    "    c=0\n",
    "    for pdf in pdfs:\n",
    "        if c<2744:\n",
    "            c+=1\n",
    "            continue\n",
    "        print('Count: ',c)\n",
    "        p=RESULT_DIR+'/'+pdf.split('/')[-1].split('.')[0]\n",
    "        if not os.path.exists(p):\n",
    "            os.makedirs(p)\n",
    "        try:\n",
    "            documents = ds.convert_documents(api=api,proj_key=PROJ_KEY, source_path=pdf)\n",
    "            documents.download_all(result_dir = p)\n",
    "        except ConnectionResetError :\n",
    "            #wait 5 minutes and try again\n",
    "            time.sleep(300)\n",
    "        c+=1\n",
    "\n",
    "pdfs = glob.glob('/home/kiki/HD/Teses/samples/*.pdf')\n",
    "convert_and_save(api,pdfs)"
   ]
  },
  {
   "cell_type": "code",
   "execution_count": null,
   "metadata": {},
   "outputs": [],
   "source": [
    "Count:  426\n"
   ]
  }
 ],
 "metadata": {
  "kernelspec": {
   "display_name": "pytorch",
   "language": "python",
   "name": "python3"
  },
  "language_info": {
   "codemirror_mode": {
    "name": "ipython",
    "version": 3
   },
   "file_extension": ".py",
   "mimetype": "text/x-python",
   "name": "python",
   "nbconvert_exporter": "python",
   "pygments_lexer": "ipython3",
   "version": "3.8.16"
  },
  "orig_nbformat": 4
 },
 "nbformat": 4,
 "nbformat_minor": 2
}
